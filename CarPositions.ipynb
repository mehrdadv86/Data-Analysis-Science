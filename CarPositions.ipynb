{
 "cells": [
  {
   "cell_type": "code",
   "execution_count": 1,
   "metadata": {},
   "outputs": [],
   "source": [
    "import numpy as np\n"
   ]
  },
  {
   "cell_type": "code",
   "execution_count": 3,
   "metadata": {},
   "outputs": [],
   "source": [
    "def carpositions(n,m,T):\n",
    "    N = []\n",
    "    M = []\n",
    "    PossibleMs = []\n",
    "    A = []\n",
    "    S = []\n",
    "    \n",
    "    for i in range(n):\n",
    "        N.append(i)\n",
    "    for i in range(m):\n",
    "        M.append(i)\n",
    "    PossibleMs = [M]\n",
    "    for i in range(T):\n",
    "        fullposition = []\n",
    "        #print ('initial position:',PossibleMs)\n",
    "        \n",
    "        for pm in range(len(PossibleMs)):\n",
    "           \n",
    "            moveablecars=[]\n",
    "            PM = PossibleMs[pm]\n",
    "            #print ('pm:',PM)\n",
    "            for j in range(len(PM)-1):\n",
    "                if PM[j+1]-PM[j]>1:\n",
    "                    moveablecars.append([PM[j],j])\n",
    "\n",
    "            if PM[0]!=N[0]:\n",
    "                moveablecars.append([PM[-1],-1])\n",
    "            elif PM[0]==N[0] and PM[-1]!=N[-1]:\n",
    "                moveablecars.append([PM[-1],-1])\n",
    "            newpositions=[]\n",
    "            #print('moveable cars:',moveablecars)\n",
    "            for m in range(len(moveablecars)):\n",
    "                moving = PossibleMs[pm]\n",
    "                #print ('moving:',moving)\n",
    "                choice = moveablecars[m]\n",
    "                if choice[0] == N[-1]:\n",
    "                    moving.pop()\n",
    "                    moving.insert(0,N[0])\n",
    "                else:\n",
    "                    choice[0]+=1\n",
    "                    moving[choice[1]] = choice[0]\n",
    "                aa = []\n",
    "                for item in moving:\n",
    "                    aa.append(item)\n",
    "                newpositions.append(aa)\n",
    "                choice[0]-=1\n",
    "                moving[choice[1]] = choice[0]\n",
    "                #print('new position:',newpositions)\n",
    "                A.append(np.mean(newpositions))\n",
    "                S.append(np.std(newpositions))\n",
    "            for item in newpositions:\n",
    "                if item not in fullposition:\n",
    "                    fullposition.append(item)\n",
    "            #print ('allposition:',fullposition)\n",
    "        PossibleMs = []\n",
    "        for item in fullposition:\n",
    "            PossibleMs.append(item)\n",
    "            A.append(np.mean(item))\n",
    "            S.append(np.std(item))\n",
    "        #print (PossibleMs)\n",
    "    print (np.mean(A),np.std(A), np.mean(S), np.std(S))\n",
    "    \n",
    "        \n",
    "    "
   ]
  },
  {
   "cell_type": "code",
   "execution_count": 4,
   "metadata": {},
   "outputs": [
    {
     "name": "stdout",
     "output_type": "stream",
     "text": [
      "4.274150242787775 0.8430714527981436 2.6288973861801126 0.4565998395156321\n"
     ]
    }
   ],
   "source": [
    "carpositions(10,5,20)"
   ]
  },
  {
   "cell_type": "code",
   "execution_count": 297,
   "metadata": {},
   "outputs": [],
   "source": [
    "import numpy as np\n",
    "def carpositions(n,m,T):\n",
    "    N = []\n",
    "    M = []\n",
    "    A = []\n",
    "    S = []\n",
    "    for i in range(n):\n",
    "        N.append(i)\n",
    "    for i in range(m):\n",
    "        M.append(i)\n",
    "    for i in range(T):\n",
    "        moveablecars=[]\n",
    "\n",
    "        for j in range(len(M)-1):\n",
    "            if M[j+1]-M[j]>1:\n",
    "                moveablecars.append([M[j],j])\n",
    "\n",
    "        if M[0]!=N[0]:\n",
    "            moveablecars.append([M[-1],-1])\n",
    "        elif M[0]==N[0] and M[-1]!=N[-1]:\n",
    "            moveablecars.append([M[-1],-1])\n",
    "        for m in range(len(moveablecars)):\n",
    "            choice = moveablecars[m]\n",
    "            if choice[0] == N[-1]:\n",
    "                M.pop()\n",
    "                M.insert(0,N[0])\n",
    "            else:\n",
    "                choice[0]+=1\n",
    "                M[choice[1]] = choice[0]\n",
    "            A.append(np.mean(M))\n",
    "            S.append(np.std(M))\n",
    "            \n",
    "    print (M, np.mean(A), np.std(A), np.mean(S), np.std(S))\n",
    "    return M, np.mean(A), np.mean(S)\n",
    "    \n",
    "        \n"
   ]
  },
  {
   "cell_type": "code",
   "execution_count": 298,
   "metadata": {},
   "outputs": [
    {
     "name": "stdout",
     "output_type": "stream",
     "text": [
      "[1, 3, 5, 7, 9, 16, 18, 20, 22, 24] 12.107692307692307 2.37131348446155 6.415454575606106 1.0641860922245387\n"
     ]
    }
   ],
   "source": [
    "M = carpositions(25,10,50)"
   ]
  },
  {
   "cell_type": "code",
   "execution_count": null,
   "metadata": {},
   "outputs": [],
   "source": []
  }
 ],
 "metadata": {
  "kernelspec": {
   "display_name": "Python 3",
   "language": "python",
   "name": "python3"
  },
  "language_info": {
   "codemirror_mode": {
    "name": "ipython",
    "version": 3
   },
   "file_extension": ".py",
   "mimetype": "text/x-python",
   "name": "python",
   "nbconvert_exporter": "python",
   "pygments_lexer": "ipython3",
   "version": "3.6.5"
  }
 },
 "nbformat": 4,
 "nbformat_minor": 2
}
